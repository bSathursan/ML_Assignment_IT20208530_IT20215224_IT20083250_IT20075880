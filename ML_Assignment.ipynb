{
  "cells": [
    {
      "cell_type": "markdown",
      "metadata": {
        "id": "view-in-github"
      },
      "source": [
        "<a href=\"https://colab.research.google.com/github/KithusshandR/ML_Assignment2_IT19029832_IT19241760_IT19121802/blob/Development/ML_Assignment02.ipynb\" target=\"_parent\"><img src=\"https://colab.research.google.com/assets/colab-badge.svg\" alt=\"Open In Colab\"/></a>"
      ]
    },
    {
      "cell_type": "markdown",
      "metadata": {
        "id": "1XQEnq6qEqVj"
      },
      "source": [
        "# Import Necessary Libraries\n",
        "\n",
        "The nltk library to proecess the text and the pandas library to load the data are loaded."
      ]
    },
    {
      "cell_type": "code",
      "execution_count": 1,
      "metadata": {
        "id": "GXcL-kvC-b7J"
      },
      "outputs": [],
      "source": [
        "# Import the Natural Language Toolkit (nltk) and the Pandas library (pd)\n",
        "import nltk\n",
        "import pandas as pd"
      ]
    },
    {
      "attachments": {},
      "cell_type": "markdown",
      "metadata": {},
      "source": [
        "# Analysis the loaded Dataset\n",
        "\n",
        "The loaded dataset is analysised to find the information about the dataset like No of row and no of columns"
      ]
    },
    {
      "cell_type": "code",
      "execution_count": null,
      "metadata": {},
      "outputs": [],
      "source": [
        "# Analysis the loaded Dataset\n",
        "\n",
        "The loaded dataset is analysised to find the information about the dataset like No of row and no of columns\n",
        "# Get the shape of the dataset (number of rows and columns)\n",
        "shape = dataset.shape\n",
        "\n",
        "# Print the shape of the dataset\n",
        "print(f\"The dataset has {shape[0]} rows and {shape[1]} columns.\")\n",
        "# Get the list of column names in the dataset\n",
        "columns = dataset.columns\n",
        "\n",
        "# Print the column names\n",
        "print(\"Column names:\")\n",
        "for col in columns:\n",
        "    print(col)\n",
        "# Remove the 'Unnamed: 0' and 'website_url' columns from the dataset\n",
        "dataset = dataset.drop('Unnamed: 0', axis=1)\n",
        "dataset = dataset.drop('website_url', axis=1)\n",
        "\n",
        "# Print the first five rows of the modified dataset\n",
        "dataset.head()\n",
        "# Get the data types of the columns in the dataset\n",
        "data_types = dataset.dtypes\n",
        "\n",
        "# Print the data types of each column\n",
        "print(\"Data types:\")\n",
        "for col, dtype in data_types.iteritems():\n",
        "    print(f\"{col}: {dtype}\")\n",
        "# Get the unique values in the 'Category' column of the dataset\n",
        "unique_categories = dataset.Category.unique()\n",
        "\n",
        "# Print the unique values\n",
        "print(\"Unique categories:\")\n",
        "for category in unique_categories:\n",
        "    print(category)\n",
        "# Get information about the dataset, including the number of non-null values and data types of each column\n",
        "dataset_info = dataset.info()\n",
        "\n",
        "# Print the dataset information\n",
        "print(dataset_info)"
      ]
    }
  ],
  "metadata": {
    "colab": {
      "collapsed_sections": [
        "1XQEnq6qEqVj",
        "yKmm2tKqE4Eb",
        "TktHObkmFB28",
        "-6dO9wO0FPnm"
      ],
      "provenance": []
    },
    "kernelspec": {
      "display_name": "Python 3",
      "name": "python3"
    },
    "language_info": {
      "name": "python",
      "version": "3.9.6"
    }
  },
  "nbformat": 4,
  "nbformat_minor": 0
}
